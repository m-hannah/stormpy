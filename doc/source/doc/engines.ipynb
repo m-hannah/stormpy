{
 "cells": [
  {
   "cell_type": "markdown",
   "metadata": {},
   "source": [
    "# Engines"
   ]
  },
  {
   "cell_type": "markdown",
   "metadata": {},
   "source": [
    "## Background\n",
    "\n",
    "Storm supports different engines for building and checking a model. A detailed comparison of the different engines provided in Storm can be found on the [Storm website](http://www.stormchecker.org/documentation/usage/engines.html)."
   ]
  },
  {
   "cell_type": "markdown",
   "metadata": {},
   "source": [
    "## Sparse engine\n",
    "\n",
    "In all of the examples so far we used the default sparse engine:\n",
    "\n",
    ">>> import stormpy.examples\n",
    ">>> import stormpy.examples.files\n",
    "    >>> prism_program = stormpy.parse_prism_program(stormpy.examples.files.prism_dtmc_die)\n",
    ">>> properties = stormpy.parse_properties('P=? [F \"one\"]', prism_program)\n",
    ">>> sparse_model = stormpy.build_sparse_model(prism_program, properties)\n",
    ">>> print(type(sparse_model))\n",
    "<class 'stormpy.storage.storage.SparseDtmc'>\n",
    ">>> print(\"Number of states: {}\".format(sparse_model.nr_states))\n",
    "Number of states: 13\n",
    ">>> print(\"Number of transitions: {}\".format(sparse_model.nr_transitions))\n",
    "Number of transitions: 20The model checking was also done in the sparse engine:\n",
    "\n",
    ">>> sparse_result = stormpy.check_model_sparse(sparse_model, properties[0])\n",
    ">>> initial_state = sparse_model.initial_states[0]\n",
    ">>> print(sparse_result.at(initial_state))\n",
    "0.16666666666666666"
   ]
  },
  {
   "cell_type": "markdown",
   "metadata": {},
   "source": [
    "## Symbolic engine\n",
    "\n",
    "Instead of using the sparse engine, one can also use a symbolic representation in terms of binary decision diagrams (BDDs).\n",
    "To use the symbolic (dd) engine, we use the symbolic versions for the building and model checking:\n",
    "\n",
    ">>> symbolic_model = stormpy.build_symbolic_model(prism_program, properties)\n",
    ">>> print(type(symbolic_model))\n",
    "<class 'stormpy.storage.storage.SymbolicSylvanDtmc'>\n",
    ">>> print(\"Number of states: {}\".format(symbolic_model.nr_states))\n",
    "Number of states: 13\n",
    ">>> print(\"Number of transitions: {}\".format(symbolic_model.nr_transitions))\n",
    "Number of transitions: 20\n",
    ">>> symbolic_result = stormpy.check_model_dd(symbolic_model, properties[0])\n",
    ">>> print(symbolic_result)\n",
    "[0, 1] (range)We can also filter the computed results and only consider the initial states:\n",
    "\n",
    ">>> filter = stormpy.create_filter_initial_states_symbolic(symbolic_model)\n",
    ">>> symbolic_result.filter(filter)\n",
    ">>> print(symbolic_result.min)\n",
    "0.16666650772094727It is also possible to first build the model symbolically and then transform it into a sparse model:\n",
    "\n",
    ">>> print(type(symbolic_model))\n",
    "<class 'stormpy.storage.storage.SymbolicSylvanDtmc'>\n",
    ">>> transformed_model = stormpy.transform_to_sparse_model(symbolic_model)\n",
    ">>> print(type(transformed_model))\n",
    "<class 'stormpy.storage.storage.SparseDtmc'>"
   ]
  },
  {
   "cell_type": "markdown",
   "metadata": {},
   "source": [
    "## Hybrid engine\n",
    "\n",
    "A third possibility is to use the hybrid engine, a combination of sparse and dd engines.\n",
    "It first builds the model symbolically.\n",
    "The actual model checking is then performed with the engine which is deemed most suitable for the given task.\n",
    "\n",
    ">>> print(type(symbolic_model))\n",
    "<class 'stormpy.storage.storage.SymbolicSylvanDtmc'>\n",
    ">>> hybrid_result = stormpy.check_model_hybrid(symbolic_model, properties[0])\n",
    ">>> filter = stormpy.create_filter_initial_states_symbolic(symbolic_model)\n",
    ">>> hybrid_result.filter(filter)\n",
    ">>> print(hybrid_result)\n",
    "0.166667"
   ]
  }
 ],
 "metadata": {
  "date": 1598178167.148,
  "filename": "engines.rst",
  "kernelspec": {
   "display_name": "Python",
   "language": "python3",
   "name": "python3"
  },
  "title": "Engines"
 },
 "nbformat": 4,
 "nbformat_minor": 4
}