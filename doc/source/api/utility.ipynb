{
 "cells": [
  {
   "cell_type": "markdown",
   "metadata": {},
   "source": [
    "# Stormpy.utility\n",
    "\n",
    "class MatrixFormatI_Minus_P = MatrixFormat.I_Minus_PStraight = MatrixFormat.Straightclass ModelReferenceLightweight Wrapper around results\n",
    "\n",
    "get_boolean_valueself: stormpy.utility.utility.ModelReferencevariable: storm::expressions::Variableboolget a value for a boolean variable\n",
    "\n",
    "get_integer_valueself: stormpy.utility.utility.ModelReferencevariable: storm::expressions::Variableintget a value for an integer variable\n",
    "\n",
    "get_rational_valueself: stormpy.utility.utility.ModelReferencevariable: storm::expressions::Variablefloatget a value (as double) for an rational variable\n",
    "\n",
    "class Pathproperty distanceproperty predecessorKproperty predecessorNodeclass ShortestPathsGeneratorget_distanceself: stormpy.utility.utility.ShortestPathsGeneratork: intfloatget_path_as_listself: stormpy.utility.utility.ShortestPathsGeneratork: intList[int]get_statesself: stormpy.utility.utility.ShortestPathsGeneratork: intstorm::storage::BitVectorclass SmtCheckResultResult type\n",
    "\n",
    "Sat = SmtCheckResult.SatUnknown = SmtCheckResult.UnknownUnsat = SmtCheckResult.Unsatclass SmtSolverGeneric Storm SmtSolver Wrapper\n",
    "\n",
    "addself: stormpy.utility.utility.SmtSolverarg0: storm::expressions::ExpressionNoneaddconstraint\n",
    "\n",
    "checkself: stormpy.utility.utility.SmtSolverstormpy.utility.utility.SmtCheckResultcheck\n",
    "\n",
    "property modelget the model\n",
    "\n",
    "popself: stormpy.utility.utility.SmtSolverlevels: intNonepop\n",
    "\n",
    "pushself: stormpy.utility.utility.SmtSolverNonepush\n",
    "\n",
    "resetself: stormpy.utility.utility.SmtSolverNonereset\n",
    "\n",
    "class SmtSolverFactoryFactory for creating SMT Solvers\n",
    "\n",
    "class Z3SmtSolverz3 API for storm smtsolver wrapper\n",
    "\n",
    "class millisecondscountself: stormpy.utility.utility.millisecondsint"
   ]
  }
 ],
 "metadata": {
  "date": 1598178167.1070933,
  "filename": "utility.rst",
  "kernelspec": {
   "display_name": "Python",
   "language": "python3",
   "name": "python3"
  },
  "title": "Stormpy.utility"
 },
 "nbformat": 4,
 "nbformat_minor": 4
}