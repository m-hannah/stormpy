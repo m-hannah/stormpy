{
 "cells": [
  {
   "cell_type": "markdown",
   "metadata": {},
   "source": [
    "# Stormpy.info\n",
    "\n",
    "class VersionVersion information for Storm\n",
    "\n",
    "build_info = \"Compiled on Linux 5.4.0-31-generic using gcc 9.3.0 with flags ' -std=c++14 -O3 -DNDEBUG -fprefetch-loop-arrays -flto -flto-partition=none -march=native -fomit-frame-pointer'\"development = Truelong = 'Version 1.6.1 (dev) (+ 121 commits) build from revision 8d9e2a92f03b713aee2a4b6b65737cc5c8c54856 (clean)'major = 1minor = 6patch = 1short = '1.6.1 (dev)'storm_exact_use_clnCheck if exact arithmetic in Storm uses CLN.\n",
    ":return: True if exact arithmetic uses CLN.\n",
    "\n",
    "storm_ratfunc_use_clnCheck if rational functions in Storm use CLN.\n",
    ":return: True iff rational functions use CLN.\n",
    "\n",
    "storm_versionGet storm version.\n",
    ":return: Storm version"
   ]
  }
 ],
 "metadata": {
  "date": 1598178166.7365491,
  "filename": "info.rst",
  "kernelspec": {
   "display_name": "Python",
   "language": "python3",
   "name": "python3"
  },
  "title": "Stormpy.info"
 },
 "nbformat": 4,
 "nbformat_minor": 4
}