{
 "cells": [
  {
   "cell_type": "markdown",
   "metadata": {},
   "source": [
    "# Stormpy.exceptions\n",
    "\n",
    "exception StormErrormessageBase class for exceptions in Storm."
   ]
  }
 ],
 "metadata": {
  "date": 1598178166.53555,
  "filename": "exceptions.rst",
  "kernelspec": {
   "display_name": "Python",
   "language": "python3",
   "name": "python3"
  },
  "title": "Stormpy.exceptions"
 },
 "nbformat": 4,
 "nbformat_minor": 4
}